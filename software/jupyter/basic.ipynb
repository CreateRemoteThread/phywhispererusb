{
 "cells": [
  {
   "cell_type": "markdown",
   "metadata": {},
   "source": [
    "### Connect:"
   ]
  },
  {
   "cell_type": "code",
   "execution_count": null,
   "metadata": {},
   "outputs": [],
   "source": [
    "import phywhisperer.usb as pw\n",
    "phy = pw.Usb()\n",
    "phy.con()\n",
    "phy.set_power_source(\"host\")"
   ]
  },
  {
   "cell_type": "markdown",
   "metadata": {},
   "source": [
    "### Test register R/W:"
   ]
  },
  {
   "cell_type": "code",
   "execution_count": null,
   "metadata": {},
   "outputs": [],
   "source": [
    "phy.usb.cmdWriteMem(0, [0xa2])\n",
    "assert (phy.usb.cmdReadMem(0, 1)[0] == 0xa2), \"readback error!\""
   ]
  },
  {
   "cell_type": "markdown",
   "metadata": {},
   "source": [
    "### Reset FPGA\n",
    "Before running the cells that follow, unplug target, do the reset_fpga() below, then reconnect target."
   ]
  },
  {
   "cell_type": "code",
   "execution_count": null,
   "metadata": {},
   "outputs": [],
   "source": [
    "phy.reset_fpga()"
   ]
  },
  {
   "cell_type": "markdown",
   "metadata": {},
   "source": [
    "### Enable capture"
   ]
  },
  {
   "cell_type": "code",
   "execution_count": null,
   "metadata": {},
   "outputs": [],
   "source": [
    "phy.usb.cmdWriteMem(3, [1])\n",
    "# uncomment to disable timestamp collection:\n",
    "#phy.usb.cmdWriteMem(2, [1])"
   ]
  },
  {
   "cell_type": "markdown",
   "metadata": {},
   "source": [
    "### Read from FIFO:"
   ]
  },
  {
   "cell_type": "code",
   "execution_count": null,
   "metadata": {},
   "outputs": [],
   "source": [
    "bytes_to_read = 20\n",
    "fifo_bytes = []\n",
    "raws = []\n",
    "data_commands = 0\n",
    "stat_commands = 0\n",
    "total_time = 0\n",
    "while (data_commands < bytes_to_read):\n",
    "    raw = phy.usb.cmdReadMem(1,3)\n",
    "    raws.append(raw)\n",
    "    command = raw[2] & 0x3\n",
    "    if (command == 0):\n",
    "        data = raw[1]\n",
    "        ts = raw[0] & 0x7\n",
    "        flags = (raw[0] & 0xf8) >> 3\n",
    "        total_time += ts\n",
    "        print (\"DATA: data=%s, flags=%s, time=%d\" % (hex(data), hex(flags), total_time))\n",
    "        data_commands += 1\n",
    "        total_time = 0\n",
    "        fifo_bytes.append(data)\n",
    "    elif (command == 1):\n",
    "        ts = raw[0] & 0x7\n",
    "        flags = (raw[0] & 0xf8) >> 3\n",
    "        total_time += ts\n",
    "        print (\"STAT: flags=%s, time=%d\" % (hex(flags), total_time))\n",
    "        stat_commands += 1\n",
    "        total_time = 0\n",
    "    elif (command == 2):\n",
    "        ts = raw[0] + (raw[1] << 8)\n",
    "        total_time += ts\n",
    "        #print (\"TIME: time=%d\" % ts)\n",
    "    else:\n",
    "        print (\"ERROR: unknown command (%d)\" % command)        "
   ]
  },
  {
   "cell_type": "code",
   "execution_count": null,
   "metadata": {},
   "outputs": [],
   "source": []
  }
 ],
 "metadata": {
  "kernelspec": {
   "display_name": "Python 3",
   "language": "python",
   "name": "python3"
  },
  "language_info": {
   "codemirror_mode": {
    "name": "ipython",
    "version": 3
   },
   "file_extension": ".py",
   "mimetype": "text/x-python",
   "name": "python",
   "nbconvert_exporter": "python",
   "pygments_lexer": "ipython3",
   "version": "3.7.1"
  }
 },
 "nbformat": 4,
 "nbformat_minor": 2
}
