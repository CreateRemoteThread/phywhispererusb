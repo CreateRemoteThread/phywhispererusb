{
 "cells": [
  {
   "cell_type": "markdown",
   "metadata": {},
   "source": [
    "# Illustrates how to sniff USB traffic:"
   ]
  },
  {
   "cell_type": "markdown",
   "metadata": {},
   "source": [
    "### Connect:"
   ]
  },
  {
   "cell_type": "code",
   "execution_count": null,
   "metadata": {},
   "outputs": [],
   "source": [
    "import phywhisperer.usb as pw\n",
    "phy = pw.Usb()\n",
    "phy.con(program_fpga=False)\n",
    "phy.set_power_source(\"host\")"
   ]
  },
  {
   "cell_type": "markdown",
   "metadata": {},
   "source": [
    "### Reset the FPGA:"
   ]
  },
  {
   "cell_type": "code",
   "execution_count": null,
   "metadata": {},
   "outputs": [],
   "source": [
    "phy.reset_fpga()"
   ]
  },
  {
   "cell_type": "markdown",
   "metadata": {},
   "source": [
    "### Tell it how many events to capture:\n",
    "Maximum is 8192."
   ]
  },
  {
   "cell_type": "code",
   "execution_count": null,
   "metadata": {},
   "outputs": [],
   "source": [
    "phy.set_capture_size(500)"
   ]
  },
  {
   "cell_type": "markdown",
   "metadata": {},
   "source": [
    "### Arm:\n",
    "You should see the blue ARM LED turn on to reflect the armed status. It stays on because no trigger pattern has been programmed yet."
   ]
  },
  {
   "cell_type": "code",
   "execution_count": null,
   "metadata": {},
   "outputs": [],
   "source": [
    "phy.arm(action='capture')"
   ]
  },
  {
   "cell_type": "markdown",
   "metadata": {},
   "source": [
    "### Program pattern match:\n",
    "The trigger will occur after this executes. The trigger can be observed on the IO4 pin of the ChipWhisperer connector."
   ]
  },
  {
   "cell_type": "code",
   "execution_count": null,
   "metadata": {},
   "outputs": [],
   "source": [
    "phy.set_pattern(pattern=[0xa5], mask=[0xff])"
   ]
  },
  {
   "cell_type": "markdown",
   "metadata": {},
   "source": [
    "### Read captured data:"
   ]
  },
  {
   "cell_type": "code",
   "execution_count": null,
   "metadata": {},
   "outputs": [],
   "source": [
    "data_times, captured_data, stat_times, captured_stat = phy.read_from_fifo(entries=500, verbose=False)"
   ]
  },
  {
   "cell_type": "markdown",
   "metadata": {},
   "source": [
    "### Check the capture FIFO status:\n",
    "No overflow or underflow events should have occured."
   ]
  },
  {
   "cell_type": "code",
   "execution_count": null,
   "metadata": {},
   "outputs": [],
   "source": [
    "phy.check_fifo_errors()"
   ]
  },
  {
   "cell_type": "markdown",
   "metadata": {},
   "source": [
    "### Interpret captured data:\n",
    "The pattern match byte which triggered the captured isn't recorded; let's add it back it so that the USB data can be properly interpreted:"
   ]
  },
  {
   "cell_type": "code",
   "execution_count": null,
   "metadata": {},
   "outputs": [],
   "source": [
    "data_times.insert(0,0)\n",
    "captured_data.insert(0,0xa5)"
   ]
  },
  {
   "cell_type": "code",
   "execution_count": null,
   "metadata": {},
   "outputs": [],
   "source": [
    "usb = USBInterpreter(False)\n",
    "\n",
    "import numpy as np\n",
    "idx = np.where(np.array([data_times[i+1] - data_times[i] for i in range(0, len(data_times)-1)]) > 100)\n",
    "i = 0\n",
    "for j in idx[0]:\n",
    "    chunk = bytes(captured_data[i:(j+1)])\n",
    "    i = j + 1\n",
    "    usb.handlePacket(data_times[i], chunk, 0)\n"
   ]
  },
  {
   "cell_type": "code",
   "execution_count": null,
   "metadata": {},
   "outputs": [],
   "source": [
    "#Run !pip install crcmod in a cell first\n",
    "\n",
    "def hd(x):\n",
    "    return \" \".join(\"%02x\" % i for i in x)\n",
    "\n",
    "class USBInterpreter(object):\n",
    "    import crcmod\n",
    "    data_crc = staticmethod(crcmod.mkCrcFun(0x18005))\n",
    "\n",
    "    def __init__(self, highspeed):\n",
    "        self.frameno = None\n",
    "        self.subframe = 0\n",
    "        self.highspeed = True\n",
    "\n",
    "        self.last_ts_frame = 0\n",
    "\n",
    "        self.last_ts_print = 0\n",
    "        self.last_ts_pkt = 0\n",
    "        self.ts_base = 0\n",
    "        self.ts_roll_cyc = 2**24\n",
    "\n",
    "    def handlePacket(self, ts, buf, flags):\n",
    "        CRC_BAD = 1\n",
    "        CRC_GOOD = 2\n",
    "        CRC_NONE = 3\n",
    "        crc_check = CRC_NONE\n",
    "        \n",
    "        ts_delta_pkt = ts - self.last_ts_pkt\n",
    "        self.last_ts_pkt = ts\n",
    "\n",
    "        if ts_delta_pkt < 0:\n",
    "            self.ts_base += self.ts_roll_cyc\n",
    "\n",
    "        ts += self.ts_base\n",
    "\n",
    "\n",
    "        suppress = False\n",
    "\n",
    "        #msg = \"(%s)\" % \" \".join(\"%02x\" % i for i in buf)\n",
    "        msg = \"\"\n",
    "\n",
    "        if len(buf) != 0:\n",
    "            pid = buf[0] & 0xF\n",
    "            if (buf[0] >> 4) ^ 0xF != pid:\n",
    "                msg += \"Err - bad PID of %02x\" % pid\n",
    "            elif pid == 0x5:\n",
    "                if len(buf) < 3:\n",
    "                    msg += \"RUNT frame\"\n",
    "                else:\n",
    "                    frameno = buf[1] | (buf[2] << 8) & 0x7\n",
    "                    if self.frameno == None:\n",
    "                        self.subframe = None\n",
    "                    else:\n",
    "                        if self.subframe == None:\n",
    "                            if frameno == (self.frameno + 1) & 0xFF:\n",
    "                                self.subframe = 0 if self.highspeed else None\n",
    "                        else:\n",
    "                            self.subframe += 1\n",
    "                            if self.subframe == 8:\n",
    "                                if frameno == (self.frameno + 1)&0xFF:\n",
    "                                    self.subframe = 0\n",
    "                                else:\n",
    "                                    msg += \"WTF Subframe %d\" % self.frameno\n",
    "                                    self.subframe = None\n",
    "                            elif self.frameno != frameno:\n",
    "                                msg += \"WTF frameno %d\" % self.frameno\n",
    "                                self.subframe = None\n",
    "                    \n",
    "                    self.frameno = frameno\n",
    "                                \n",
    "                    self.last_ts_frame = ts\n",
    "                    suppress = True\n",
    "                    msg += \"Frame %d.%c\" % (frameno, '?' if self.subframe == None else \"%d\" % self.subframe)\n",
    "            elif pid in [0x3, 0xB, 0x7]:\n",
    "                n = {3:0, 0xB:1, 0x7:2}[pid]\n",
    "\n",
    "                msg += \"DATA%d: %s\" % (n,hd(buf[1:]))\n",
    "\n",
    "                if len(buf) > 2:\n",
    "                    calc_check = self.data_crc(buf[1:-2])^0xFFFF \n",
    "                    pkt_check = buf[-2] | buf[-1] << 8\n",
    "\n",
    "                    if calc_check != pkt_check:\n",
    "                        msg += \"\\tUnexpected ERR CRC\"\n",
    "\n",
    "            elif pid == 0xF:\n",
    "                msg += \"MDATA: %s\" % hd(buf[1:])\n",
    "            elif pid in [0x01, 0x09, 0x0D, 0x04]:\n",
    "                if pid == 1:\n",
    "                    name = \"OUT\"\n",
    "                elif pid == 9:\n",
    "                    name = \"IN\"\n",
    "                elif pid == 0xD:\n",
    "                    name = \"SETUP\"\n",
    "                elif pid == 0x04:\n",
    "                    name = \"PING\"\n",
    "                if len(buf) < 3:\n",
    "                    msg += \"RUNT: %s %s\" % (name, \" \".join(\"%02x\" % i for i in buf))\n",
    "                else:\n",
    "\n",
    "                    addr = buf[1] & 0x7F\n",
    "                    endp = (buf[2] & 0x7) << 1 | buf[1] >> 7\n",
    "\n",
    "                    msg += \"%-5s: %d.%d\" % (name, addr, endp)\n",
    "            elif pid == 2:\n",
    "                msg += \"ACK\"\n",
    "            elif pid == 0xA:\n",
    "                msg += \"NAK\"\n",
    "            elif pid == 0xE:\n",
    "                msg += \"STALL\"\n",
    "            elif pid == 0x6:\n",
    "                msg += \"NYET\"\n",
    "            elif pid == 0xC:\n",
    "                msg += \"PRE-ERR\"\n",
    "                pass\n",
    "            elif pid == 0x8:\n",
    "                msg += \"SPLIT\"\n",
    "                pass\n",
    "            else:\n",
    "                msg += \"WUT\"\n",
    "\n",
    "        if not suppress:\n",
    "            crc_char_d = {\n",
    "                CRC_BAD: '!',\n",
    "                CRC_GOOD: 'C',\n",
    "                CRC_NONE: ' '\n",
    "            }\n",
    "\n",
    "            flag_field = \"[  %s%s%s%s%s%s]\" % (\n",
    "                'L' if flags & 0x20 else ' ',\n",
    "                'F' if flags & 0x10 else ' ',\n",
    "                'T' if flags & 0x08 else ' ',\n",
    "                'C' if flags & 0x04 else ' ',\n",
    "                'O' if flags & 0x02 else ' ',\n",
    "                'E' if flags & 0x01 else ' ')\n",
    "            delta_subframe = ts - self.last_ts_frame\n",
    "            delta_print = ts - self.last_ts_print\n",
    "            self.last_ts_print = ts\n",
    "            RATE=60.0e6\n",
    "\n",
    "            subf_print = ''\n",
    "            frame_print = ''\n",
    "\n",
    "            if self.frameno != None:\n",
    "                frame_print = \"%3d\" % self.frameno\n",
    "\n",
    "            if self.subframe != None:\n",
    "                subf_print = \".%d\" % self.subframe\n",
    "\n",
    "            print (\"%s %10.6f d=%10.6f [%3s%2s +%7.3f] [%3d] %s \" % (\n",
    "                    flag_field, ts/RATE, (delta_print)/RATE,\n",
    "                    frame_print, subf_print, delta_subframe/RATE * 1E6,\n",
    "                    len(buf), msg))"
   ]
  },
  {
   "cell_type": "code",
   "execution_count": null,
   "metadata": {},
   "outputs": [],
   "source": []
  }
 ],
 "metadata": {
  "kernelspec": {
   "display_name": "Python 3",
   "language": "python",
   "name": "python3"
  },
  "language_info": {
   "codemirror_mode": {
    "name": "ipython",
    "version": 3
   },
   "file_extension": ".py",
   "mimetype": "text/x-python",
   "name": "python",
   "nbconvert_exporter": "python",
   "pygments_lexer": "ipython3",
   "version": "3.7.1"
  }
 },
 "nbformat": 4,
 "nbformat_minor": 2
}
