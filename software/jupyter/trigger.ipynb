{
 "cells": [
  {
   "cell_type": "markdown",
   "metadata": {},
   "source": [
    "# Illustrates how to program the trigger:"
   ]
  },
  {
   "cell_type": "markdown",
   "metadata": {},
   "source": [
    "### Connect:"
   ]
  },
  {
   "cell_type": "code",
   "execution_count": null,
   "metadata": {},
   "outputs": [],
   "source": [
    "import phywhisperer.usb as pw\n",
    "phy = pw.Usb()\n",
    "phy.con()\n",
    "phy.set_power_source(\"host\")"
   ]
  },
  {
   "cell_type": "markdown",
   "metadata": {},
   "source": [
    "### Reset FPGA and target:"
   ]
  },
  {
   "cell_type": "code",
   "execution_count": null,
   "metadata": {},
   "outputs": [],
   "source": [
    "import time\n",
    "\n",
    "#Example - turn device off, wait 1/2 second for Windows to drop\n",
    "phy.set_power_source(\"off\")\n",
    "time.sleep(0.5)\n",
    "\n",
    "#Turn device back on:\n",
    "phy.usb.cmdWriteMem(3, [1])\n",
    "phy.set_power_source(\"host\")\n",
    "\n",
    "#Let device enumerate\n",
    "time.sleep(2.0)\n",
    "\n",
    "#Reset FPGA:\n",
    "phy.reset_fpga()"
   ]
  },
  {
   "cell_type": "markdown",
   "metadata": {},
   "source": [
    "### Program trigger parameters:"
   ]
  },
  {
   "cell_type": "code",
   "execution_count": null,
   "metadata": {},
   "outputs": [],
   "source": [
    "phy.usb.cmdWriteMem(0x10, [0x0, 0x1]) # trigger delay = 256 cycles\n",
    "phy.usb.cmdWriteMem(0x11, [0x0, 0x4]) # trigger width = 1024 cycles = 4.27us"
   ]
  },
  {
   "cell_type": "markdown",
   "metadata": {},
   "source": [
    "### Arm:\n",
    "You should see the ARM LED turn on to reflect the armed status. It stays on because no trigger pattern or action has been programmed yet."
   ]
  },
  {
   "cell_type": "code",
   "execution_count": null,
   "metadata": {},
   "outputs": [],
   "source": [
    "phy.usb.cmdWriteMem(3, [1])"
   ]
  },
  {
   "cell_type": "markdown",
   "metadata": {},
   "source": [
    "### Program pattern match and action:\n",
    "The trigger will occur after this executes. The trigger can be observed on the IO4 pin of the ChipWhisperer connector."
   ]
  },
  {
   "cell_type": "code",
   "execution_count": null,
   "metadata": {},
   "outputs": [],
   "source": [
    "phy.usb.cmdWriteMem(0xa, [0xa5])   # pattern\n",
    "phy.usb.cmdWriteMem(0xb, [0xff])   # mask\n",
    "phy.usb.cmdWriteMem(0xc, [2])      # action = trigger\n",
    "phy.usb.cmdWriteMem(0xd, [1])      # pattern length = 1 byte"
   ]
  },
  {
   "cell_type": "code",
   "execution_count": null,
   "metadata": {},
   "outputs": [],
   "source": []
  }
 ],
 "metadata": {
  "kernelspec": {
   "display_name": "Python 3",
   "language": "python",
   "name": "python3"
  },
  "language_info": {
   "codemirror_mode": {
    "name": "ipython",
    "version": 3
   },
   "file_extension": ".py",
   "mimetype": "text/x-python",
   "name": "python",
   "nbconvert_exporter": "python",
   "pygments_lexer": "ipython3",
   "version": "3.7.1"
  }
 },
 "nbformat": 4,
 "nbformat_minor": 2
}
