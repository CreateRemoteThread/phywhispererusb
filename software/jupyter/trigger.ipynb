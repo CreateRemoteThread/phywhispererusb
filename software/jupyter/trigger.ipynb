{
 "cells": [
  {
   "cell_type": "markdown",
   "metadata": {},
   "source": [
    "# Illustrates how to program the trigger:"
   ]
  },
  {
   "cell_type": "markdown",
   "metadata": {},
   "source": [
    "### Connect:"
   ]
  },
  {
   "cell_type": "code",
   "execution_count": null,
   "metadata": {},
   "outputs": [],
   "source": [
    "import phywhisperer.usb as pw\n",
    "phy = pw.Usb()\n",
    "phy.con(program_fpga=True)\n",
    "phy.set_power_source(\"host\")"
   ]
  },
  {
   "cell_type": "markdown",
   "metadata": {},
   "source": [
    "### Check bitfile build time:\n",
    "During development it's handy to confirm that the newest bitfile is being used!"
   ]
  },
  {
   "cell_type": "code",
   "execution_count": null,
   "metadata": {},
   "outputs": [],
   "source": [
    "print(phy.get_fpga_buildtime())"
   ]
  },
  {
   "cell_type": "markdown",
   "metadata": {},
   "source": [
    "### Power-off target to allow PhyWhisperer to autodetect its speed:\n",
    "Ensure the target device is connected to the PhyWhisperer.\n",
    "We'll turn off the target's power so that the PhyWhisperer can be programmed before turning the target back on. We do this because we'll be capturing what the target does when it's first turned on."
   ]
  },
  {
   "cell_type": "code",
   "execution_count": null,
   "metadata": {},
   "outputs": [],
   "source": [
    "import time\n",
    "phy.set_power_source(\"off\")\n",
    "time.sleep(0.5)\n",
    "phy.reset_fpga()"
   ]
  },
  {
   "cell_type": "markdown",
   "metadata": {},
   "source": [
    "### (Optionally) Manually set USB speed:\n",
    "By default, PhyWhisperer will auto-detect the target's USB speed when the target is connected or powered-up, so this should not be necessary."
   ]
  },
  {
   "cell_type": "code",
   "execution_count": null,
   "metadata": {},
   "outputs": [],
   "source": [
    "phy.set_usb_mode('auto')"
   ]
  },
  {
   "cell_type": "markdown",
   "metadata": {},
   "source": [
    "### Program trigger parameters:\n",
    "Here we set the capture delay equal to the trigger delay, but they can be set independently:"
   ]
  },
  {
   "cell_type": "code",
   "execution_count": null,
   "metadata": {},
   "outputs": [],
   "source": [
    "phy.set_trigger(delay=0, width=3)\n",
    "phy.set_capture_delay(delay=0)"
   ]
  },
  {
   "cell_type": "markdown",
   "metadata": {},
   "source": [
    "### Arm the PhyWhisperer:\n",
    "You should see the blue ARM LED turn on to reflect the armed status."
   ]
  },
  {
   "cell_type": "code",
   "execution_count": null,
   "metadata": {},
   "outputs": [],
   "source": [
    "phy.arm()"
   ]
  },
  {
   "cell_type": "markdown",
   "metadata": {},
   "source": [
    "### Program the pattern match:"
   ]
  },
  {
   "cell_type": "code",
   "execution_count": null,
   "metadata": {},
   "outputs": [],
   "source": [
    "phy.set_pattern(pattern=[0xa5], mask=[0xff])"
   ]
  },
  {
   "cell_type": "markdown",
   "metadata": {},
   "source": [
    "### Tell PhyWhisperer how many events to capture:\n",
    "Maximum is 8188."
   ]
  },
  {
   "cell_type": "code",
   "execution_count": null,
   "metadata": {},
   "outputs": [],
   "source": [
    "phy.set_capture_size(500)"
   ]
  },
  {
   "cell_type": "markdown",
   "metadata": {},
   "source": [
    "### Power up the target:\n",
    "Now that PhyWhisperer is programmed, power up the target. PW should auto-detect the correct speed, then the trigger should occur immediately.\n",
    "The trigger can be observed on the IO4 pin of the ChipWhisperer connector and on the \"Trig Out\" MCX connector."
   ]
  },
  {
   "cell_type": "code",
   "execution_count": null,
   "metadata": {},
   "outputs": [],
   "source": [
    "phy.set_power_source(\"host\")\n",
    "#Let device enumerate\n",
    "time.sleep(1.0)"
   ]
  },
  {
   "cell_type": "markdown",
   "metadata": {},
   "source": [
    "### Ensure correct USB speed was detected:\n",
    "If the assertion fails, try setting the USB speed manually with set_usb_mode()."
   ]
  },
  {
   "cell_type": "code",
   "execution_count": null,
   "metadata": {},
   "outputs": [],
   "source": [
    "assert (phy.get_usb_mode() == 'FS')\n",
    "#assert (phy.get_usb_mode() == 'LS')\n",
    "#assert (phy.get_usb_mode() == 'HS')"
   ]
  },
  {
   "cell_type": "markdown",
   "metadata": {},
   "source": [
    "### Read what was captured:"
   ]
  },
  {
   "cell_type": "code",
   "execution_count": null,
   "metadata": {},
   "outputs": [],
   "source": [
    "raw = phy.read_only_from_fifo(entries=500)"
   ]
  },
  {
   "cell_type": "markdown",
   "metadata": {},
   "source": [
    "### Interpret the captured data:\n",
    "The pattern match byte which triggered the captured isn't recorded; let's add it back it so that the USB data can be properly interpreted.\n",
    "Then, split the raw data into packets, and print them:"
   ]
  },
  {
   "cell_type": "code",
   "execution_count": null,
   "metadata": {},
   "outputs": [],
   "source": [
    "phy.addpattern = True\n",
    "\n",
    "packets = phy.split_packets(raw)\n",
    "\n",
    "printPackets = pw.USBSimplePrintSink(highspeed=phy.get_usb_mode() == 'HS')\n",
    "\n",
    "for packet in packets:\n",
    "    printPackets.handle_usb_packet(ts=packet['timestamp'], buf=bytearray(packet['contents']), flags=0)"
   ]
  },
  {
   "cell_type": "markdown",
   "metadata": {},
   "source": [
    "### Iterate and generate a trigger pulse of increasing width:"
   ]
  },
  {
   "cell_type": "code",
   "execution_count": null,
   "metadata": {},
   "outputs": [],
   "source": [
    "import time\n",
    "start_time = time.time()\n",
    "for i in range (16):\n",
    "    print(\"Iteration %d: \" % i, end='')\n",
    "    # toggle target power on and off:\n",
    "    phy.set_power_source(\"off\")\n",
    "    time.sleep(0.1)\n",
    "    # set trigger parameters:\n",
    "    phy.set_trigger(delay=0, width=2**i)\n",
    "    # arm:\n",
    "    phy.arm()\n",
    "    phy.set_power_source(\"host\")    \n",
    "    phy.wait_disarmed()\n",
    "    print(\"done\")\n",
    "    time.sleep(0.1)\n",
    "print(\"Elapsed time: %d seconds\" % (time.time()-start_time))   "
   ]
  },
  {
   "cell_type": "code",
   "execution_count": null,
   "metadata": {},
   "outputs": [],
   "source": [
    "phy.close()"
   ]
  }
 ],
 "metadata": {
  "kernelspec": {
   "display_name": "Python 3",
   "language": "python",
   "name": "python3"
  },
  "language_info": {
   "codemirror_mode": {
    "name": "ipython",
    "version": 3
   },
   "file_extension": ".py",
   "mimetype": "text/x-python",
   "name": "python",
   "nbconvert_exporter": "python",
   "pygments_lexer": "ipython3",
   "version": "3.6.7"
  }
 },
 "nbformat": 4,
 "nbformat_minor": 4
}
